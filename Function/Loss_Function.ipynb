{
 "cells": [
  {
   "cell_type": "markdown",
   "id": "0944e057-4086-493d-9e2b-bd0a30d58419",
   "metadata": {},
   "source": [
    "### Mean Squared Error (MSE)"
   ]
  },
  {
   "cell_type": "code",
   "execution_count": 6,
   "id": "1f8d09e3-18cf-4b92-8b4e-af489ca36c64",
   "metadata": {},
   "outputs": [
    {
     "name": "stdout",
     "output_type": "stream",
     "text": [
      "Mean Squared Error: 0.25\n"
     ]
    }
   ],
   "source": [
    "import numpy as np\n",
    "#Define function\n",
    "def mean_squared_error(y_i, y_hat):\n",
    "    num_len = len(y_i)\n",
    "    squared_error = (y_i - y_hat)**2\n",
    "    mean_squared_error_value = np.mean(squared_error) # if we want to return Decimal value Call only single slash \n",
    "    return mean_squared_error_value\n",
    "\n",
    "y_i = np.array([2, 4, 7, 5, 8])\n",
    "y_pred = np.array([2.5, 3.5, 6.5, 4.5, 8.5])\n",
    "mean_squared_error_value_cal = mean_squared_error(y_i, y_pred)\n",
    "print(f\"Mean Squared Error: {mean_squared_error_value_cal}\")"
   ]
  },
  {
   "cell_type": "markdown",
   "id": "574255ca-d7e9-46f3-9b1b-7e085c15ab41",
   "metadata": {},
   "source": [
    "## Mean Absoulte Error"
   ]
  },
  {
   "cell_type": "code",
   "execution_count": 7,
   "id": "601c9ae2-cc5e-4bac-87b2-7b1535d47f4c",
   "metadata": {},
   "outputs": [
    {
     "name": "stdout",
     "output_type": "stream",
     "text": [
      "Mean Squared Error: 0.5\n"
     ]
    }
   ],
   "source": [
    "import numpy as np\n",
    "#Define function\n",
    "def mean_squared_error(y_i, y_hat):\n",
    "    num_len = len(y_i)\n",
    "    squared_error = np.abs (y_i - y_hat)\n",
    "    mean_squared_error_value = np.mean(squared_error) # if we want to return Decimal value Call only single slash \n",
    "    return mean_squared_error_value\n",
    "\n",
    "y_i = np.array([2, 4, 7, 5, 8])\n",
    "y_pred = np.array([2.5, 3.5, 6.5, 4.5, 8.5])\n",
    "mean_squared_error_value_cal = mean_squared_error(y_i, y_pred)\n",
    "print(f\"Mean Squared Error: {mean_squared_error_value_cal}\")"
   ]
  },
  {
   "cell_type": "markdown",
   "id": "c2c29815-8e9f-43f9-bbde-5695f3727311",
   "metadata": {},
   "source": [
    "### Hinge Loss:"
   ]
  },
  {
   "cell_type": "code",
   "execution_count": 11,
   "id": "93d3f773-e97c-418f-943a-17d8afe232bd",
   "metadata": {},
   "outputs": [
    {
     "name": "stdout",
     "output_type": "stream",
     "text": [
      "Hinge Loss Calculated Values : [0.2 0.5 0.1 0.  0.3]\n"
     ]
    }
   ],
   "source": [
    "import numpy as np\n",
    "\n",
    "def hinge_loss_cal(y_i, y_hat):\n",
    "    hinge_loss_value = np.maximum(0, (1- (y_i*y_hat)))\n",
    "    return hinge_loss_value\n",
    "\n",
    "y_i = np.array([1, -1, 1, -1, 1])\n",
    "y_pred = np.array([0.8, -0.5, 0.9, -1.2, 0.7])\n",
    "hinge_loss_cal_value_cal = hinge_loss_cal(y_i, y_pred)\n",
    "print(f\"Hinge Loss Calculated Values : {hinge_loss_cal_value_cal}\")"
   ]
  },
  {
   "cell_type": "markdown",
   "id": "ece32cd6-61f4-4907-957d-c56aa90007c7",
   "metadata": {},
   "source": [
    "### Huber Loss"
   ]
  },
  {
   "cell_type": "code",
   "execution_count": 18,
   "id": "58de648d-9a46-45e2-b40d-95a63e8106da",
   "metadata": {},
   "outputs": [],
   "source": [
    "import numpy as np\n",
    "def huber_loss_cal(y_i, y_hat, delta):\n",
    "    mean_absulate_value_cal = np.abs(y_i - y_hat)\n",
    "    if mean_absulate_value_cal <= delta:\n",
    "        huber_loss = 0.5 * (y_i - y_hat)**2\n",
    "    else:\n",
    "        huber_loss = mean_absulate_value_cal - 0.5 * delta**2\n",
    "    return huber_loss"
   ]
  },
  {
   "cell_type": "code",
   "execution_count": 19,
   "id": "7dbbe261-acff-4962-815f-061e0293732b",
   "metadata": {},
   "outputs": [
    {
     "name": "stdout",
     "output_type": "stream",
     "text": [
      "Huber Loss Value is: 2.5\n"
     ]
    }
   ],
   "source": [
    "actual_value = 5\n",
    "pred_value = 8\n",
    "delta = 1\n",
    "print(f\"Huber Loss Value is: {huber_loss_cal(actual_value, pred_value, delta)}\")"
   ]
  },
  {
   "cell_type": "code",
   "execution_count": null,
   "id": "1593cd19-28b6-4c3e-bfdf-c24418ee0223",
   "metadata": {},
   "outputs": [],
   "source": []
  }
 ],
 "metadata": {
  "kernelspec": {
   "display_name": "Python 3 (ipykernel)",
   "language": "python",
   "name": "python3"
  },
  "language_info": {
   "codemirror_mode": {
    "name": "ipython",
    "version": 3
   },
   "file_extension": ".py",
   "mimetype": "text/x-python",
   "name": "python",
   "nbconvert_exporter": "python",
   "pygments_lexer": "ipython3",
   "version": "3.10.12"
  }
 },
 "nbformat": 4,
 "nbformat_minor": 5
}
